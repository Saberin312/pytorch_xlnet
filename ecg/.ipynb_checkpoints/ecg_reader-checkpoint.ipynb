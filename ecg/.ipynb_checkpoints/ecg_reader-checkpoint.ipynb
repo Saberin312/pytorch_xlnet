{
 "cells": [
  {
   "cell_type": "code",
   "execution_count": 4,
   "metadata": {},
   "outputs": [
    {
     "ename": "FileNotFoundError",
     "evalue": "[Errno 2] No such file or directory: '/home/saber/FateStayNight/5th/Assassin/pytorch_xlnet/ecg_data/101.hea'",
     "output_type": "error",
     "traceback": [
      "\u001b[0;31m---------------------------------------------------------------------------\u001b[0m",
      "\u001b[0;31mFileNotFoundError\u001b[0m                         Traceback (most recent call last)",
      "\u001b[0;32m<ipython-input-4-e92bcfc623e2>\u001b[0m in \u001b[0;36m<module>\u001b[0;34m\u001b[0m\n\u001b[1;32m     72\u001b[0m \u001b[0;34m\u001b[0m\u001b[0m\n\u001b[1;32m     73\u001b[0m \u001b[0;32mif\u001b[0m \u001b[0m__name__\u001b[0m \u001b[0;34m==\u001b[0m \u001b[0;34m\"__main__\"\u001b[0m\u001b[0;34m:\u001b[0m\u001b[0;34m\u001b[0m\u001b[0;34m\u001b[0m\u001b[0m\n\u001b[0;32m---> 74\u001b[0;31m     \u001b[0mread_ecg_data\u001b[0m\u001b[0;34m(\u001b[0m\u001b[0;34m)\u001b[0m\u001b[0;34m\u001b[0m\u001b[0;34m\u001b[0m\u001b[0m\n\u001b[0m",
      "\u001b[0;32m<ipython-input-4-e92bcfc623e2>\u001b[0m in \u001b[0;36mread_ecg_data\u001b[0;34m()\u001b[0m\n\u001b[1;32m     18\u001b[0m     \u001b[0;34m:\u001b[0m\u001b[0;32mreturn\u001b[0m\u001b[0;34m:\u001b[0m\u001b[0;34m\u001b[0m\u001b[0;34m\u001b[0m\u001b[0m\n\u001b[1;32m     19\u001b[0m     '''\n\u001b[0;32m---> 20\u001b[0;31m     \u001b[0mrecord\u001b[0m \u001b[0;34m=\u001b[0m \u001b[0mwfdb\u001b[0m\u001b[0;34m.\u001b[0m\u001b[0mrdrecord\u001b[0m\u001b[0;34m(\u001b[0m\u001b[0;34m'../ecg_data/101'\u001b[0m\u001b[0;34m,\u001b[0m \u001b[0msampfrom\u001b[0m\u001b[0;34m=\u001b[0m\u001b[0;36m0\u001b[0m\u001b[0;34m,\u001b[0m \u001b[0msampto\u001b[0m \u001b[0;34m=\u001b[0m \u001b[0;36m1500\u001b[0m\u001b[0;34m)\u001b[0m\u001b[0;34m\u001b[0m\u001b[0;34m\u001b[0m\u001b[0m\n\u001b[0m\u001b[1;32m     21\u001b[0m     \u001b[0;31m# 仅仅读取“MLII”信号\u001b[0m\u001b[0;34m\u001b[0m\u001b[0;34m\u001b[0m\u001b[0;34m\u001b[0m\u001b[0m\n\u001b[1;32m     22\u001b[0m     \u001b[0;31m# record = wfdb.rdrecord('../ecg_data/101', sampto=1500, channel_names=['MLII'])\u001b[0m\u001b[0;34m\u001b[0m\u001b[0;34m\u001b[0m\u001b[0;34m\u001b[0m\u001b[0m\n",
      "\u001b[0;32m~/anaconda3/lib/python3.7/site-packages/wfdb/io/record.py\u001b[0m in \u001b[0;36mrdrecord\u001b[0;34m(record_name, sampfrom, sampto, channels, physical, pb_dir, m2s, smooth_frames, ignore_skew, return_res, force_channels, channel_names, warn_empty)\u001b[0m\n\u001b[1;32m   1152\u001b[0m \u001b[0;34m\u001b[0m\u001b[0m\n\u001b[1;32m   1153\u001b[0m     \u001b[0;31m# Read the header fields\u001b[0m\u001b[0;34m\u001b[0m\u001b[0;34m\u001b[0m\u001b[0;34m\u001b[0m\u001b[0m\n\u001b[0;32m-> 1154\u001b[0;31m     \u001b[0mrecord\u001b[0m \u001b[0;34m=\u001b[0m \u001b[0mrdheader\u001b[0m\u001b[0;34m(\u001b[0m\u001b[0mrecord_name\u001b[0m\u001b[0;34m,\u001b[0m \u001b[0mpb_dir\u001b[0m\u001b[0;34m=\u001b[0m\u001b[0mpb_dir\u001b[0m\u001b[0;34m,\u001b[0m \u001b[0mrd_segments\u001b[0m\u001b[0;34m=\u001b[0m\u001b[0;32mFalse\u001b[0m\u001b[0;34m)\u001b[0m\u001b[0;34m\u001b[0m\u001b[0;34m\u001b[0m\u001b[0m\n\u001b[0m\u001b[1;32m   1155\u001b[0m \u001b[0;34m\u001b[0m\u001b[0m\n\u001b[1;32m   1156\u001b[0m     \u001b[0;31m# Set defaults for sampto and channels input variables\u001b[0m\u001b[0;34m\u001b[0m\u001b[0;34m\u001b[0m\u001b[0;34m\u001b[0m\u001b[0m\n",
      "\u001b[0;32m~/anaconda3/lib/python3.7/site-packages/wfdb/io/record.py\u001b[0m in \u001b[0;36mrdheader\u001b[0;34m(record_name, pb_dir, rd_segments)\u001b[0m\n\u001b[1;32m    989\u001b[0m     \u001b[0;31m# Read the header file. Separate comment and non-comment lines\u001b[0m\u001b[0;34m\u001b[0m\u001b[0;34m\u001b[0m\u001b[0;34m\u001b[0m\u001b[0m\n\u001b[1;32m    990\u001b[0m     header_lines, comment_lines = _header._read_header_lines(base_record_name,\n\u001b[0;32m--> 991\u001b[0;31m                                                              dir_name, pb_dir)\n\u001b[0m\u001b[1;32m    992\u001b[0m \u001b[0;34m\u001b[0m\u001b[0m\n\u001b[1;32m    993\u001b[0m     \u001b[0;31m# Get fields from record line\u001b[0m\u001b[0;34m\u001b[0m\u001b[0;34m\u001b[0m\u001b[0;34m\u001b[0m\u001b[0m\n",
      "\u001b[0;32m~/anaconda3/lib/python3.7/site-packages/wfdb/io/_header.py\u001b[0m in \u001b[0;36m_read_header_lines\u001b[0;34m(base_record_name, dir_name, pb_dir)\u001b[0m\n\u001b[1;32m    703\u001b[0m     \u001b[0;31m# Read local file\u001b[0m\u001b[0;34m\u001b[0m\u001b[0;34m\u001b[0m\u001b[0;34m\u001b[0m\u001b[0m\n\u001b[1;32m    704\u001b[0m     \u001b[0;32mif\u001b[0m \u001b[0mpb_dir\u001b[0m \u001b[0;32mis\u001b[0m \u001b[0;32mNone\u001b[0m\u001b[0;34m:\u001b[0m\u001b[0;34m\u001b[0m\u001b[0;34m\u001b[0m\u001b[0m\n\u001b[0;32m--> 705\u001b[0;31m         \u001b[0;32mwith\u001b[0m \u001b[0mopen\u001b[0m\u001b[0;34m(\u001b[0m\u001b[0mos\u001b[0m\u001b[0;34m.\u001b[0m\u001b[0mpath\u001b[0m\u001b[0;34m.\u001b[0m\u001b[0mjoin\u001b[0m\u001b[0;34m(\u001b[0m\u001b[0mdir_name\u001b[0m\u001b[0;34m,\u001b[0m \u001b[0mfile_name\u001b[0m\u001b[0;34m)\u001b[0m\u001b[0;34m,\u001b[0m \u001b[0;34m'r'\u001b[0m\u001b[0;34m)\u001b[0m \u001b[0;32mas\u001b[0m \u001b[0mfp\u001b[0m\u001b[0;34m:\u001b[0m\u001b[0;34m\u001b[0m\u001b[0;34m\u001b[0m\u001b[0m\n\u001b[0m\u001b[1;32m    706\u001b[0m             \u001b[0;31m# Record line followed by signal/segment lines if any\u001b[0m\u001b[0;34m\u001b[0m\u001b[0;34m\u001b[0m\u001b[0;34m\u001b[0m\u001b[0m\n\u001b[1;32m    707\u001b[0m             \u001b[0mheader_lines\u001b[0m \u001b[0;34m=\u001b[0m \u001b[0;34m[\u001b[0m\u001b[0;34m]\u001b[0m\u001b[0;34m\u001b[0m\u001b[0;34m\u001b[0m\u001b[0m\n",
      "\u001b[0;31mFileNotFoundError\u001b[0m: [Errno 2] No such file or directory: '/home/saber/FateStayNight/5th/Assassin/pytorch_xlnet/ecg_data/101.hea'"
     ]
    }
   ],
   "source": [
    "import wfdb\n",
    "import matplotlib.pyplot as plt\n",
    "import numpy as np\n",
    "\n",
    "# 画心电图\n",
    "def draw_ecg(x):\n",
    "    plt.plot(x)\n",
    "    plt.show()\n",
    "\n",
    "# 读取心电图数据\n",
    "def read_ecg_data():\n",
    "    '''\n",
    "    读取心电信号文件\n",
    "    sampfrom: 设置读取心电信号的 起始位置，sampfrom=0表示从0开始读取，默认从0开始\n",
    "    sampto：设置读取心电信号的 结束位置，sampto = 1500表示从1500出结束，默认读到文件末尾\n",
    "    channel_names：设置设置读取心电信号名字，必须是列表，channel_names=['MLII']表示读取MLII导联线\n",
    "    channels：设置读取第几个心电信号，必须是列表，channels=[0, 3]表示读取第0和第3个信号，注意信号数不确定\n",
    "    :return:\n",
    "    '''\n",
    "    record = wfdb.rdrecord('../ecg_data/101', sampfrom=0, sampto = 1500)\n",
    "    # 仅仅读取“MLII”信号\n",
    "    # record = wfdb.rdrecord('../ecg_data/101', sampto=1500, channel_names=['MLII'])\n",
    "    # 仅仅读取第0个信号（MLII）\n",
    "    # record = wfdb.rdrecord('../ecg_data/101', sampfrom=0, sampto=1500, channels=[0])\n",
    "\n",
    "    # 查看record类型\n",
    "    # print(type(record))\n",
    "    # 查看类中的方法和属性\n",
    "    # print(dir(record))\n",
    "\n",
    "    # 获得心电导联线信号，本文获得是MLII和V1信号数据\n",
    "    print(record.p_signal)\n",
    "    print(np.shape(record.p_signal))\n",
    "    # 查看导联线信号长度，本文信号长度1500\n",
    "    print(record.sig_len)\n",
    "    # 查看文件名\n",
    "    print(record.record_name)\n",
    "    # 查看导联线条数，本文为导联线条数2\n",
    "    print(record.n_sig)\n",
    "    # 查看信号名称（列表），本文导联线名称['MLII', 'V1']\n",
    "    print(record.sig_name)\n",
    "    # 查看采用率\n",
    "    print(record.fs)\n",
    "\n",
    "\n",
    "    print(\"***************\")\n",
    "\n",
    "    '''\n",
    "    读取注解文件\n",
    "    sampfrom: 设置读取心电信号的 起始位置，sampfrom=0表示从0开始读取，默认从0开始\n",
    "    sampto：设置读取心电信号的 结束位置，sampto = 1500表示从1500出结束，默认读到文件末尾\n",
    "    '''\n",
    "    annotation = wfdb.rdann('../ecg_data/102', 'atr')\n",
    "    # 查看annotation类型\n",
    "    # print(type(annotation))\n",
    "    # 查看类中的方法和属性\n",
    "    # print(dir(annotation))\n",
    "\n",
    "    # 标注每一个心拍的R波的尖锋位置，与心电信号对应\n",
    "    print(annotation.sample)\n",
    "    # 标注每一个心拍的类型N，L，R等等\n",
    "    print(annotation.symbol)\n",
    "    # 被标注的数量\n",
    "    print(annotation.ann_len)\n",
    "    # 被标注的文件名\n",
    "    print(annotation.record_name)\n",
    "\n",
    "    # 查看心拍的类型\n",
    "    # print(wfdb.show_ann_labels())\n",
    "\n",
    "    draw_ecg(record.p_signal)\n",
    "\n",
    "if __name__ == \"__main__\":\n",
    "    read_ecg_data()"
   ]
  },
  {
   "cell_type": "code",
   "execution_count": null,
   "metadata": {},
   "outputs": [],
   "source": []
  },
  {
   "cell_type": "code",
   "execution_count": null,
   "metadata": {},
   "outputs": [],
   "source": []
  }
 ],
 "metadata": {
  "kernelspec": {
   "display_name": "Python 3",
   "language": "python",
   "name": "python3"
  },
  "language_info": {
   "codemirror_mode": {
    "name": "ipython",
    "version": 3
   },
   "file_extension": ".py",
   "mimetype": "text/x-python",
   "name": "python",
   "nbconvert_exporter": "python",
   "pygments_lexer": "ipython3",
   "version": "3.7.3"
  }
 },
 "nbformat": 4,
 "nbformat_minor": 2
}
