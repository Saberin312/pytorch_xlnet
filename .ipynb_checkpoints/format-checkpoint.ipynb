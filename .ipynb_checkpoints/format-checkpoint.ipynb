{
 "cells": [
  {
   "cell_type": "code",
   "execution_count": 9,
   "metadata": {},
   "outputs": [
    {
     "name": "stdout",
     "output_type": "stream",
     "text": [
      "My name is: 柏浩冉\n",
      "My name is bhr\n",
      "Name:Saber      Age:15 Height:170\n",
      "Name:Alfred     Age:25       Height:1.70    \n"
     ]
    }
   ],
   "source": [
    "print('My name is: %s' %('柏浩冉'))\n",
    "print('My name is','bhr')\n",
    "print('Name:%-10s Age:%d Height:%d'%('Saber',15,170))\n",
    "\n",
    "\n",
    "print (\"Name:%-10s Age:%-8d Height:%-8.2f\"%(\"Alfred\",25,1.70)) "
   ]
  },
  {
   "cell_type": "code",
   "execution_count": null,
   "metadata": {},
   "outputs": [],
   "source": []
  }
 ],
 "metadata": {
  "kernelspec": {
   "display_name": "Python 3",
   "language": "python",
   "name": "python3"
  },
  "language_info": {
   "codemirror_mode": {
    "name": "ipython",
    "version": 3
   },
   "file_extension": ".py",
   "mimetype": "text/x-python",
   "name": "python",
   "nbconvert_exporter": "python",
   "pygments_lexer": "ipython3",
   "version": "3.6.6"
  }
 },
 "nbformat": 4,
 "nbformat_minor": 2
}
