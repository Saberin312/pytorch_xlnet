{
 "cells": [
  {
   "cell_type": "code",
   "execution_count": 1,
   "metadata": {},
   "outputs": [],
   "source": [
    "import torch as t\n",
    "from torch.autograd import Variable as V\n",
    "#matplotlib inline\n",
    "from matplotlib import pyplot as plt\n",
    "from IPython import display"
   ]
  },
  {
   "cell_type": "code",
   "execution_count": 3,
   "metadata": {},
   "outputs": [],
   "source": [
    "##设置随机种子\n",
    "t.manual_seed(1000)\n",
    "\n",
    "def get_fake_data(batch_size=8):\n",
    "    '''产生随机数据 y=x*2+3'''\n",
    "    x=t.rand(batch_size,1)*20 #01之间的随机数\n",
    "    y=x*2+(1+t.randn(batch_size,1))*3 #01正态分布\n",
    "    return x,y"
   ]
  },
  {
   "cell_type": "code",
   "execution_count": 6,
   "metadata": {},
   "outputs": [
    {
     "name": "stdout",
     "output_type": "stream",
     "text": [
      "tensor([[12.8106],\n",
      "        [ 7.4975],\n",
      "        [19.7422],\n",
      "        [15.6497],\n",
      "        [17.8983],\n",
      "        [14.7902],\n",
      "        [ 5.1379],\n",
      "        [ 3.1496]]) tensor([[32.4013],\n",
      "        [21.4902],\n",
      "        [39.9146],\n",
      "        [29.6012],\n",
      "        [36.2406],\n",
      "        [36.4112],\n",
      "        [13.6594],\n",
      "        [ 9.3006]])\n"
     ]
    },
    {
     "data": {
      "text/plain": [
       "<matplotlib.collections.PathCollection at 0x7f7d964ec2b0>"
      ]
     },
     "execution_count": 6,
     "metadata": {},
     "output_type": "execute_result"
    },
    {
     "data": {
      "image/png": "[encoded data removed]",
      "text/plain": [
       "<Figure size 432x288 with 1 Axes>"
      ]
     },
     "metadata": {
      "needs_background": "light"
     },
     "output_type": "display_data"
    }
   ],
   "source": [
    "x,y=get_fake_data()\n",
    "print(x,y)\n",
    "plt.scatter(x.squeeze().numpy(),y.squeeze().numpy())  #去除维度为1"
   ]
  },
  {
   "cell_type": "code",
   "execution_count": null,
   "metadata": {},
   "outputs": [],
   "source": [
    "#随机初始参数\n",
    "w=V(t.rand(1,1),requires_grad=True)\n",
    "b=V(t.zeros(1,1),requires_grad=True)\n",
    "\n",
    "lr=0.001\n",
    "\n",
    "for ii in range(8000):\n",
    "    x,y=get_fake_data()\n",
    "    x,y=V(X),V(Y)\n",
    "    \n",
    "    #FORWARD\n",
    "    y_pred=x.mm(w)+b.expand_as(y)\n",
    "    loss=0.5*(y_pred-y)**2\n",
    "    loss=loss.sum()\n",
    "    \n",
    "    #backward\n",
    "    loss.backward()\n",
    "    \n",
    "    #更新参数\n",
    "    w.data.sub_(lr*w.grad.data)\n",
    "    b.data.sub_(lr*b.grad.data)\n",
    "    \n",
    "    #梯度清零\n",
    "    w.grad.data.zero_()\n",
    "    b.grad.data.zero_(\n",
    "    )\n",
    "    "
   ]
  }
 ],
 "metadata": {
  "kernelspec": {
   "display_name": "Python 3",
   "language": "python",
   "name": "python3"
  },
  "language_info": {
   "codemirror_mode": {
    "name": "ipython",
    "version": 3
   },
   "file_extension": ".py",
   "mimetype": "text/x-python",
   "name": "python",
   "nbconvert_exporter": "python",
   "pygments_lexer": "ipython3",
   "version": "3.7.3"
  }
 },
 "nbformat": 4,
 "nbformat_minor": 2
}
