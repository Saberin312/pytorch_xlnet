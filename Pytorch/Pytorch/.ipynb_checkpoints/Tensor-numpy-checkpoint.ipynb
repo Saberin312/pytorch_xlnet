{
 "cells": [
  {
   "cell_type": "code",
   "execution_count": 5,
   "metadata": {},
   "outputs": [],
   "source": [
    "from __future__ import print_function\n",
    "import torch as t"
   ]
  },
  {
   "cell_type": "code",
   "execution_count": 8,
   "metadata": {},
   "outputs": [
    {
     "data": {
      "text/plain": [
       "tensor([[0.0000e+00, 0.0000e+00, 0.0000e+00],\n",
       "        [0.0000e+00, 0.0000e+00, 0.0000e+00],\n",
       "        [0.0000e+00, 0.0000e+00, 1.4013e-45],\n",
       "        [0.0000e+00, 1.4013e-45, 0.0000e+00],\n",
       "        [1.4013e-45, 0.0000e+00, 0.0000e+00]])"
      ]
     },
     "execution_count": 8,
     "metadata": {},
     "output_type": "execute_result"
    }
   ],
   "source": [
    "x=t.Tensor(5,3)\n",
    "x"
   ]
  },
  {
   "cell_type": "code",
   "execution_count": 20,
   "metadata": {},
   "outputs": [
    {
     "data": {
      "text/plain": [
       "tensor([[0.4242, 0.0387, 0.9921],\n",
       "        [0.3424, 0.7268, 0.7960],\n",
       "        [0.1958, 0.2703, 0.5880],\n",
       "        [0.3630, 0.3700, 0.3837],\n",
       "        [0.9855, 0.0338, 0.4787]])"
      ]
     },
     "execution_count": 20,
     "metadata": {},
     "output_type": "execute_result"
    }
   ],
   "source": [
    "x=t.rand(5,3)\n",
    "x\n"
   ]
  },
  {
   "cell_type": "code",
   "execution_count": 21,
   "metadata": {},
   "outputs": [
    {
     "name": "stdout",
     "output_type": "stream",
     "text": [
      "torch.Size([5, 3])\n"
     ]
    }
   ],
   "source": [
    "print(x.size())"
   ]
  },
  {
   "cell_type": "code",
   "execution_count": 18,
   "metadata": {},
   "outputs": [
    {
     "data": {
      "text/plain": [
       "3"
      ]
     },
     "execution_count": 18,
     "metadata": {},
     "output_type": "execute_result"
    }
   ],
   "source": [
    "x.size(1)"
   ]
  },
  {
   "cell_type": "code",
   "execution_count": 17,
   "metadata": {},
   "outputs": [
    {
     "data": {
      "text/plain": [
       "5"
      ]
     },
     "execution_count": 17,
     "metadata": {},
     "output_type": "execute_result"
    }
   ],
   "source": [
    "x.size()[0]"
   ]
  },
  {
   "cell_type": "code",
   "execution_count": 30,
   "metadata": {},
   "outputs": [
    {
     "data": {
      "text/plain": [
       "tensor([[0.4163, 0.0387, 2.9762],\n",
       "        [1.0271, 2.1805, 2.3879],\n",
       "        [0.5873, 0.8110, 1.7641],\n",
       "        [1.0889, 1.1099, 1.1512],\n",
       "        [2.9564, 0.1013, 1.4362]])"
      ]
     },
     "execution_count": 30,
     "metadata": {},
     "output_type": "execute_result"
    }
   ],
   "source": [
    "y=t.Tensor(5,3)\n",
    "x+y"
   ]
  },
  {
   "cell_type": "code",
   "execution_count": 32,
   "metadata": {},
   "outputs": [
    {
     "data": {
      "text/plain": [
       "tensor([[0.4163, 0.0387, 2.9762],\n",
       "        [1.0271, 2.1805, 2.3879],\n",
       "        [0.5873, 0.8110, 1.7641],\n",
       "        [1.0889, 1.1099, 1.1512],\n",
       "        [2.9564, 0.1013, 1.4362]])"
      ]
     },
     "execution_count": 32,
     "metadata": {},
     "output_type": "execute_result"
    }
   ],
   "source": [
    "t.add(x,y)"
   ]
  },
  {
   "cell_type": "code",
   "execution_count": 35,
   "metadata": {},
   "outputs": [
    {
     "data": {
      "text/plain": [
       "tensor([[0.4163, 0.0387, 2.9762],\n",
       "        [1.0271, 2.1805, 2.3879],\n",
       "        [0.5873, 0.8110, 1.7641],\n",
       "        [1.0889, 1.1099, 1.1512],\n",
       "        [2.9564, 0.1013, 1.4362]])"
      ]
     },
     "execution_count": 35,
     "metadata": {},
     "output_type": "execute_result"
    }
   ],
   "source": [
    "##加法第三种实现方式,指定输出空间\n",
    "result=t.Tensor(5,3)\n",
    "t.add(x,y,out=result)\n",
    "result"
   ]
  },
  {
   "cell_type": "code",
   "execution_count": 41,
   "metadata": {},
   "outputs": [
    {
     "name": "stdout",
     "output_type": "stream",
     "text": [
      "最初y\n",
      "tensor([[0.4163, 0.0387, 2.9762],\n",
      "        [1.0271, 2.1805, 2.3879],\n",
      "        [0.5873, 0.8110, 1.7641],\n",
      "        [1.0889, 1.1099, 1.1512],\n",
      "        [2.9564, 0.1013, 1.4362]])\n",
      "第一种加法 y.add()的结果\n",
      "tensor([[0.8404, 0.0774, 3.9682],\n",
      "        [1.3695, 2.9074, 3.1839],\n",
      "        [0.7831, 1.0813, 2.3521],\n",
      "        [1.4519, 1.4799, 1.5349],\n",
      "        [3.9419, 0.1350, 1.9149]])\n",
      "y内容不改变\n",
      "tensor([[0.4163, 0.0387, 2.9762],\n",
      "        [1.0271, 2.1805, 2.3879],\n",
      "        [0.5873, 0.8110, 1.7641],\n",
      "        [1.0889, 1.1099, 1.1512],\n",
      "        [2.9564, 0.1013, 1.4362]])\n",
      "第二种加法 y.add_(),inplace加法 改变内容\n",
      "tensor([[0.8404, 0.0774, 3.9682],\n",
      "        [1.3695, 2.9074, 3.1839],\n",
      "        [0.7831, 1.0813, 2.3521],\n",
      "        [1.4519, 1.4799, 1.5349],\n",
      "        [3.9419, 0.1350, 1.9149]])\n",
      "tensor([[0.8404, 0.0774, 3.9682],\n",
      "        [1.3695, 2.9074, 3.1839],\n",
      "        [0.7831, 1.0813, 2.3521],\n",
      "        [1.4519, 1.4799, 1.5349],\n",
      "        [3.9419, 0.1350, 1.9149]])\n"
     ]
    }
   ],
   "source": [
    "##print相关\n",
    "print('最初y')\n",
    "print(y)\n",
    "print('第一种加法 y.add()的结果')\n",
    "print(y.add(x))\n",
    "print('y内容不改变')\n",
    "print(y)\n",
    "print('第二种加法 y.add_(),inplace加法 改变内容')\n",
    "print(y.add_(x))\n",
    "print(y)\n",
    "##函数名带下划线_会改变Tensor本身"
   ]
  },
  {
   "cell_type": "code",
   "execution_count": 50,
   "metadata": {},
   "outputs": [
    {
     "name": "stdout",
     "output_type": "stream",
     "text": [
      "x= tensor([[0.4242, 0.0387, 0.9921],\n",
      "        [0.3424, 0.7268, 0.7960],\n",
      "        [0.1958, 0.2703, 0.5880],\n",
      "        [0.3630, 0.3700, 0.3837],\n",
      "        [0.9855, 0.0338, 0.4787]])\n",
      "输出行\n",
      "x[2:3] tensor([[0.1958, 0.2703, 0.5880]])\n",
      "输出列\n",
      "x[:,1:2]= tensor([[0.0387],\n",
      "        [0.7268],\n",
      "        [0.2703],\n",
      "        [0.3700],\n",
      "        [0.0338]])\n"
     ]
    }
   ],
   "source": [
    "##Tensor 选取操作与numpy相类似\n",
    "print('x=',x)\n",
    "print('输出行')\n",
    "print('x[2:3]',x[2:3])\n",
    "print('输出列')\n",
    "print('x[:,1:2]=',x[:,1:2])"
   ]
  },
  {
   "cell_type": "code",
   "execution_count": 55,
   "metadata": {},
   "outputs": [
    {
     "name": "stdout",
     "output_type": "stream",
     "text": [
      "a= tensor([1., 1., 1., 1., 1.])\n"
     ]
    },
    {
     "data": {
      "text/plain": [
       "array([1., 1., 1., 1., 1.], dtype=float32)"
      ]
     },
     "execution_count": 55,
     "metadata": {},
     "output_type": "execute_result"
    }
   ],
   "source": [
    "##Tensor可先转换为numpy\n",
    "a=t.ones(5)\n",
    "a\n",
    "print('a=',a)\n",
    "b=a.numpy()#Tensor -> numpy\n",
    "b"
   ]
  },
  {
   "cell_type": "code",
   "execution_count": 56,
   "metadata": {},
   "outputs": [
    {
     "name": "stdout",
     "output_type": "stream",
     "text": [
      "[1. 1. 1. 1. 1.]\n",
      "tensor([1., 1., 1., 1., 1.], dtype=torch.float64)\n"
     ]
    }
   ],
   "source": [
    "import numpy as np\n",
    "a=np.ones(5)\n",
    "b=t.from_numpy(a) #numpy->Tensor\n",
    "print(a)\n",
    "print(b)"
   ]
  },
  {
   "cell_type": "code",
   "execution_count": 58,
   "metadata": {},
   "outputs": [
    {
     "name": "stdout",
     "output_type": "stream",
     "text": [
      "[3. 3. 3. 3. 3.] tensor([3., 3., 3., 3., 3.], dtype=torch.float64)\n"
     ]
    }
   ],
   "source": [
    "##Tensor与numpy共享内存 共同变化\n",
    "b.add_(1)\n",
    "print(a,b)\n",
    "##可使用GPU加速,大数据复杂计算会高效得多\n",
    "if t.cuda.is_available():\n",
    "    x=x.cuda()\n",
    "    y=y.cuda()\n",
    "    x+y"
   ]
  }
 ],
 "metadata": {
  "kernelspec": {
   "display_name": "Python 3",
   "language": "python",
   "name": "python3"
  },
  "language_info": {
   "codemirror_mode": {
    "name": "ipython",
    "version": 3
   },
   "file_extension": ".py",
   "mimetype": "text/x-python",
   "name": "python",
   "nbconvert_exporter": "python",
   "pygments_lexer": "ipython3",
   "version": "3.6.6"
  }
 },
 "nbformat": 4,
 "nbformat_minor": 2
}
