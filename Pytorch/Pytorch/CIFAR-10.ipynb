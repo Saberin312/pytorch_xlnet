{
 "cells": [
  {
   "cell_type": "code",
   "execution_count": 58,
   "metadata": {},
   "outputs": [],
   "source": [
    "import torch as t\n",
    "from torch.autograd import Variable\n",
    "import torch.nn.functional as F\n",
    "import torch.nn as nn\n",
    "import torch.optim as optim\n",
    "\n",
    "##torchvision提供数据库借口\n",
    "import torchvision as tv\n",
    "import torchvision.transforms as transforms\n",
    "from torchvision.transforms import ToPILImage\n",
    "show=ToPILImage() #Tensor转化成Image 方便可视化\n"
   ]
  },
  {
   "cell_type": "code",
   "execution_count": 59,
   "metadata": {},
   "outputs": [
    {
     "name": "stdout",
     "output_type": "stream",
     "text": [
      "Files already downloaded and verified\n",
      "Files already downloaded and verified\n"
     ]
    }
   ],
   "source": [
    "##自动下载CIFAR10约100MB\n",
    "\n",
    "#数据预处理\n",
    "transform=transforms.Compose([transforms.ToTensor(),#转为Tensor\n",
    "                             transforms.Normalize((0.5,0.5,0.5),(0.5,0.5,0.5)),#归一化\n",
    "                             ])\n",
    "#训练集\n",
    "trainset=tv.datasets.CIFAR10(\n",
    "                root='/home/saber/dev/Fate/Berserker/CIFAR',\n",
    "                train=True,\n",
    "                download=True,\n",
    "                transform=transform)\n",
    "\n",
    "trainloader=t.utils.data.DataLoader(\n",
    "                trainset,\n",
    "                batch_size=4,\n",
    "                shuffle=True,\n",
    "                num_workers=2\n",
    ")\n",
    "\n",
    "#测试集\n",
    "testset=tv.datasets.CIFAR10(\n",
    "                root='/home/saber/dev/Fate/Berserker/CIFAR',\n",
    "                train=True,\n",
    "                download=True,\n",
    "                transform=transform)\n",
    "\n",
    "testloader=t.utils.data.DataLoader(\n",
    "                testset,\n",
    "                batch_size=4,\n",
    "                shuffle=True,\n",
    "                num_workers=2\n",
    ")\n",
    "\n",
    "classes=('plane','car','bird','cat','deer','dog','frog','horse','ship','truck')"
   ]
  },
  {
   "cell_type": "code",
   "execution_count": 60,
   "metadata": {},
   "outputs": [
    {
     "name": "stdout",
     "output_type": "stream",
     "text": [
      "ship\n",
      "8\n"
     ]
    },
    {
     "data": {
      "image/png": "[encoded data removed]",
      "text/plain": [
       "<PIL.Image.Image image mode=RGB size=100x100 at 0x7F6940D1D4E0>"
      ]
     },
     "execution_count": 60,
     "metadata": {},
     "output_type": "execute_result"
    }
   ],
   "source": [
    "(data,label)=trainset[100]\n",
    "# transforms.ToTensor()\n",
    "print(classes[label])\n",
    "print(label)\n",
    "# (data+1)/2还原被归一化数据\n",
    "show((data+1)/2).resize((100,100))\n",
    "# trainset[100]\n",
    "# t.FloatTensor(trainset[100])"
   ]
  },
  {
   "cell_type": "code",
   "execution_count": 61,
   "metadata": {},
   "outputs": [
    {
     "name": "stdout",
     "output_type": "stream",
     "text": [
      "       frog      horse      horse       frog\n"
     ]
    },
    {
     "data": {
      "image/png": "[encoded data removed]",
      "text/plain": [
       "<PIL.Image.Image image mode=RGB size=400x100 at 0x7F6978DFB358>"
      ]
     },
     "execution_count": 61,
     "metadata": {},
     "output_type": "execute_result"
    }
   ],
   "source": [
    "dataiter=iter(trainloader)\n",
    "images,labels=dataiter.next() #返回4张图片与标签\n",
    "print(''.join('%11s'%classes[labels[j]] for j in range(4)))\n",
    "show(tv.utils.make_grid((images+1)/2)).resize((400,100))"
   ]
  },
  {
   "cell_type": "code",
   "execution_count": 62,
   "metadata": {},
   "outputs": [
    {
     "name": "stdout",
     "output_type": "stream",
     "text": [
      "Net(\n",
      "  (conv1): Conv2d(3, 6, kernel_size=(5, 5), stride=(1, 1))\n",
      "  (conv2): Conv2d(6, 16, kernel_size=(5, 5), stride=(1, 1))\n",
      "  (fc1): Linear(in_features=400, out_features=120, bias=True)\n",
      "  (fc2): Linear(in_features=120, out_features=84, bias=True)\n",
      "  (fc3): Linear(in_features=84, out_features=10, bias=True)\n",
      ")\n"
     ]
    }
   ],
   "source": [
    "class Net(nn.Module):\n",
    "    def __init__(self):\n",
    "        #nn.module子类函数必须在构造函数中执行父类的构造函数\n",
    "        super(Net,self).__init__()\n",
    "        ##等价于 nn.moduel.__init__()\n",
    "        ##卷积层3:CIFAR3通道 6:输出6通道 5:卷积核5*5\n",
    "        self.conv1=nn.Conv2d(3,6,5)\n",
    "        self.conv2=nn.Conv2d(6,16,5)\n",
    "        #fc层 y=wx+b\n",
    "        self.fc1=nn.Linear(16*5*5,120)\n",
    "        self.fc2=nn.Linear(120,84)\n",
    "        self.fc3=nn.Linear(84,10)\n",
    "        \n",
    "    def forward(self,x):\n",
    "        #卷积--激活--池化\n",
    "        x=F.max_pool2d(F.relu(self.conv1(x)),(2,2))\n",
    "        x=F.max_pool2d(F.relu(self.conv2(x)),2)\n",
    "        #reshape -1:自适应\n",
    "        x=x.view(x.size(0),-1)\n",
    "        x=F.relu(self.fc1(x))\n",
    "        x=F.relu(self.fc2(x))\n",
    "        x=self.fc3(x)\n",
    "        return x\n",
    "\n",
    "net=Net()\n",
    "print(net)\n"
   ]
  },
  {
   "cell_type": "code",
   "execution_count": 63,
   "metadata": {},
   "outputs": [],
   "source": [
    "##定义损失函数与优化器\n",
    "criterion=nn.CrossEntropyLoss() #交叉熵损失函数\n",
    "optimizer=optim.SGD(net.parameters(),lr=0.001,momentum=0.9)"
   ]
  },
  {
   "cell_type": "code",
   "execution_count": 72,
   "metadata": {},
   "outputs": [
    {
     "name": "stdout",
     "output_type": "stream",
     "text": [
      "[1, 2000] loss: 1.214\n",
      "[1, 4000] loss: 1.220\n",
      "[1, 6000] loss: 1.207\n",
      "[1, 8000] loss: 1.220\n",
      "[1,10000] loss: 1.190\n",
      "[1,12000] loss: 1.186\n",
      "Finished Training\n",
      "[2, 2000] loss: 1.130\n",
      "[2, 4000] loss: 1.111\n",
      "[2, 6000] loss: 1.124\n",
      "[2, 8000] loss: 1.124\n",
      "[2,10000] loss: 1.121\n",
      "[2,12000] loss: 1.099\n",
      "Finished Training\n"
     ]
    }
   ],
   "source": [
    "for epoch in range(2):\n",
    "    running_loss=0.0\n",
    "    for i,data in enumerate(trainloader,0):\n",
    "        \n",
    "        #输入数据\n",
    "        inputs,labels=data\n",
    "        inputs,labels=Variable(inputs),Variable(labels)\n",
    "        \n",
    "        #梯度清零\n",
    "        optimizer.zero_grad()\n",
    "        \n",
    "        #forward & backward\n",
    "        outputs=net(inputs)\n",
    "        loss=criterion(outputs,labels)\n",
    "        loss.backward()\n",
    "        \n",
    "        #更新参数\n",
    "        optimizer.step()\n",
    "        \n",
    "        #打印log信息\n",
    "#         t.tensor.item(loss.data)\n",
    "        running_loss+=loss.data\n",
    "        if i %2000 == 1999:  #每2000个batch打印一次训练状态\n",
    "            print('[%d,%5d] loss: %.3f'\\\n",
    "                 %(epoch+1,i+1,running_loss/2000))\n",
    "            running_loss=0.0\n",
    "    print('Finished Training')"
   ]
  },
  {
   "cell_type": "code",
   "execution_count": 83,
   "metadata": {},
   "outputs": [
    {
     "name": "stdout",
     "output_type": "stream",
     "text": [
      "实际的label:     deer--     cat--    ship--     dog\n"
     ]
    },
    {
     "data": {
      "image/png": "[encoded data removed]",
      "text/plain": [
       "<PIL.Image.Image image mode=RGB size=400x100 at 0x7F6940CBE278>"
      ]
     },
     "execution_count": 83,
     "metadata": {},
     "output_type": "execute_result"
    }
   ],
   "source": [
    "dataiter=iter(testloader)\n",
    "images,labels=dataiter.next()#每batch返回4张图片\n",
    "#join连接字符串\n",
    "print('实际的label:','--'.join(\\\n",
    "                        '%08s'%classes[labels[j]] for j in range(4)))\n",
    "show(tv.utils.make_grid(images/2-0.5)).resize((400,100))"
   ]
  },
  {
   "cell_type": "code",
   "execution_count": 87,
   "metadata": {},
   "outputs": [
    {
     "name": "stdout",
     "output_type": "stream",
     "text": [
      "预测分类结果  bird deer ship ship\n"
     ]
    }
   ],
   "source": [
    "##测试网络预测结果\n",
    "outputs=net(Variable(images))\n",
    "#得分最高的类别\n",
    "_,predicted=t.max(outputs.data,1)\n",
    "\n",
    "print('预测分类结果',''.join('%5s'\\\n",
    "                      % classes[predicted[j]] for j in range(4)))"
   ]
  },
  {
   "cell_type": "code",
   "execution_count": 90,
   "metadata": {},
   "outputs": [
    {
     "name": "stdout",
     "output_type": "stream",
     "text": [
      "10000张测试集中准确率为: 64 %\n"
     ]
    }
   ],
   "source": [
    "##查看整个测试集上的效果\n",
    "\n",
    "correct=0 #预测正确的图片数\n",
    "total=0 #总共的图片数\n",
    "for data in testloader:\n",
    "    images,labels=data\n",
    "    outputs=net(Variable(images))\n",
    "    _,predicted=t.max(outputs.data,1)\n",
    "    total+=labels.size(0)\n",
    "    correct+=(predicted==labels).sum()\n",
    "    \n",
    "print('10000张测试集中准确率为: %d %%' %(100*correct/total))"
   ]
  },
  {
   "cell_type": "code",
   "execution_count": 92,
   "metadata": {},
   "outputs": [],
   "source": [
    "##GPU上加速训练 复杂网络大数据量才可以看出来\n",
    "if t.cuda.is_available():\n",
    "    net.cuda()\n",
    "    images=images.cuda()\n",
    "    labels=labels.cuda()\n",
    "    outputs=net(Variable(images))\n",
    "    loss=criterion(outputs,Variable(labels))"
   ]
  }
 ],
 "metadata": {
  "kernelspec": {
   "display_name": "Python 3",
   "language": "python",
   "name": "python3"
  },
  "language_info": {
   "codemirror_mode": {
    "name": "ipython",
    "version": 3
   },
   "file_extension": ".py",
   "mimetype": "text/x-python",
   "name": "python",
   "nbconvert_exporter": "python",
   "pygments_lexer": "ipython3",
   "version": "3.6.6"
  }
 },
 "nbformat": 4,
 "nbformat_minor": 2
}
