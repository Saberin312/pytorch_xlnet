{
 "cells": [
  {
   "cell_type": "code",
   "execution_count": 58,
   "metadata": {},
   "outputs": [],
   "source": [
    "import torch.nn as nn\n",
    "import torch.nn.functional as F\n",
    "import torch as t\n",
    "from torch.autograd import Variable\n",
    "import torch.optim as optim"
   ]
  },
  {
   "cell_type": "code",
   "execution_count": 27,
   "metadata": {},
   "outputs": [],
   "source": [
    "class Net(nn.Module):\n",
    "    def __init__(self):\n",
    "        #nn.module子类函数必须在构造函数中执行父类的构造函数\n",
    "        super(Net,self).__init__()\n",
    "        ##等价于 nn.moduel.__init__()\n",
    "        ##卷积层1:单通道 6:输出6通道 5:卷积核5*5\n",
    "        self.conv1=nn.Conv2d(1,6,5)\n",
    "        self.conv2=nn.Conv2d(6,16,5)\n",
    "        #fc层 y=wx+b\n",
    "        self.fc1=nn.Linear(16*5*5,120)\n",
    "        self.fc2=nn.Linear(120,84)\n",
    "        self.fc3=nn.Linear(84,10)\n",
    "        \n",
    "    def forward(self,x):\n",
    "        #卷积--激活--池化\n",
    "        x=F.max_pool2d(F.relu(self.conv1(x)),(2,2))\n",
    "        x=F.max_pool2d(F.relu(self.conv2(x)),2)\n",
    "        #reshape -1:自适应\n",
    "        x=x.view(x.size(0),-1)\n",
    "        x=F.relu(self.fc1(x))\n",
    "        x=F.relu(self.fc2(x))\n",
    "        x=self.fc3(x)\n",
    "        return x\n",
    "    \n"
   ]
  },
  {
   "cell_type": "code",
   "execution_count": 28,
   "metadata": {},
   "outputs": [
    {
     "name": "stdout",
     "output_type": "stream",
     "text": [
      "Net(\n",
      "  (conv1): Conv2d(1, 6, kernel_size=(5, 5), stride=(1, 1))\n",
      "  (conv2): Conv2d(6, 16, kernel_size=(5, 5), stride=(1, 1))\n",
      "  (fc1): Linear(in_features=400, out_features=120, bias=True)\n",
      "  (fc2): Linear(in_features=120, out_features=84, bias=True)\n",
      "  (fc3): Linear(in_features=84, out_features=10, bias=True)\n",
      ")\n",
      "10\n",
      "conv1.weight : torch.Size([6, 1, 5, 5])\n",
      "conv1.bias : torch.Size([6])\n",
      "conv2.weight : torch.Size([16, 6, 5, 5])\n",
      "conv2.bias : torch.Size([16])\n",
      "fc1.weight : torch.Size([120, 400])\n",
      "fc1.bias : torch.Size([120])\n",
      "fc2.weight : torch.Size([84, 120])\n",
      "fc2.bias : torch.Size([84])\n",
      "fc3.weight : torch.Size([10, 84])\n",
      "fc3.bias : torch.Size([10])\n"
     ]
    }
   ],
   "source": [
    "net=Net()\n",
    "print(net)\n",
    "\n",
    "params=list(net.parameters())\n",
    "print(len(params))\n",
    "for name,parameters in net.named_parameters():\n",
    "    print(name,':',parameters.size())\n",
    "input=Variable(t.randn(1,1,32,32))\n",
    "out=net(input)\n",
    "out.size()\n",
    "##参数清零 反向传播\n",
    "net.zero_grad()\n",
    "out.backward(Variable(t.ones(1,10)))#反向传播"
   ]
  },
  {
   "cell_type": "code",
   "execution_count": 56,
   "metadata": {},
   "outputs": [],
   "source": [
    "##Losing Function\n",
    "output=net(input)\n",
    "target=Variable(t.arange(0,10)) #arange 包含末尾数字\n",
    "criterion=nn.MSELoss()\n",
    "target=target.type(t.FloatTensor)\n",
    "loss=criterion(output,target)\n",
    "# loss.backward()"
   ]
  },
  {
   "cell_type": "code",
   "execution_count": 57,
   "metadata": {},
   "outputs": [
    {
     "name": "stdout",
     "output_type": "stream",
     "text": [
      "反向传播前conv1.bias的梯度\n",
      "tensor([0., 0., 0., 0., 0., 0.])\n",
      "backward后conv1.bias的梯度\n",
      "tensor([ 0.0727, -0.0148, -0.0589,  0.0480, -0.0588, -0.0269])\n",
      "None\n"
     ]
    }
   ],
   "source": [
    "##运行Backward\n",
    "net.zero_grad() #梯度清零\n",
    "print('反向传播前conv1.bias的梯度')\n",
    "print(net.conv1.bias.grad)\n",
    "loss.backward()\n",
    "print('backward后conv1.bias的梯度')\n",
    "print(net.conv1.bias.grad)\n",
    "print(net.conv1.bias.grad_fn)"
   ]
  },
  {
   "cell_type": "code",
   "execution_count": 60,
   "metadata": {},
   "outputs": [],
   "source": [
    "##SGD更新优化方法\n",
    "\n",
    "##手动实现\n",
    "# learning_rate=0.01\n",
    "# for f in net.parameters():\n",
    "#     f.data.sub_(f.grad.data*learning_rate)\n",
    "    \n",
    "optimizer=optim.SGD(net.parameters(),lr=0.01)\n",
    "##训练时梯度清零\n",
    "optimizer.zero_grad()\n",
    "#计算损失\n",
    "output=net(input)\n",
    "loss=criterion(output,target)\n",
    "#backward\n",
    "loss.backward()\n",
    "#更新参数\n",
    "optimizer.step()"
   ]
  },
  {
   "cell_type": "code",
   "execution_count": null,
   "metadata": {},
   "outputs": [],
   "source": []
  }
 ],
 "metadata": {
  "kernelspec": {
   "display_name": "Python 3",
   "language": "python",
   "name": "python3"
  },
  "language_info": {
   "codemirror_mode": {
    "name": "ipython",
    "version": 3
   },
   "file_extension": ".py",
   "mimetype": "text/x-python",
   "name": "python",
   "nbconvert_exporter": "python",
   "pygments_lexer": "ipython3",
   "version": "3.6.6"
  }
 },
 "nbformat": 4,
 "nbformat_minor": 2
}
