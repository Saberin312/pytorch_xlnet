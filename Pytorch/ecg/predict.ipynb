{
 "cells": [
  {
   "cell_type": "code",
   "execution_count": null,
   "metadata": {},
   "outputs": [],
   "source": [
    "from __future__ import print_function\n",
    "\n",
    "import argparse\n",
    "import numpy as np\n",
    "import keras\n",
    "import os\n",
    "\n",
    "import load\n",
    "import util"
   ]
  },
  {
   "cell_type": "code",
   "execution_count": null,
   "metadata": {},
   "outputs": [],
   "source": [
    "def predict(data_json, model_path):\n",
    "    preproc = util.load(os.path.dirname(model_path))\n",
    "    dataset = load.load_dataset(data_json)\n",
    "    x, y = preproc.process(*dataset)\n",
    "\n",
    "    model = keras.models.load_model(model_path)\n",
    "    probs = model.predict(x, verbose=1)\n",
    "\n",
    "    return probs\n",
    "\n",
    "if __name__ == '__main__':\n",
    "    parser = argparse.ArgumentParser()\n",
    "    parser.add_argument(\"data_json\", help=\"path to data json\")\n",
    "    parser.add_argument(\"model_path\", help=\"path to model\")\n",
    "    args = parser.parse_args()\n",
    "    probs = predict(args.data_json, args.model_path)"
   ]
  }
 ],
 "metadata": {
  "kernelspec": {
   "display_name": "Python 3",
   "language": "python",
   "name": "python3"
  },
  "language_info": {
   "codemirror_mode": {
    "name": "ipython",
    "version": 3
   },
   "file_extension": ".py",
   "mimetype": "text/x-python",
   "name": "python",
   "nbconvert_exporter": "python",
   "pygments_lexer": "ipython3",
   "version": "3.7.3"
  }
 },
 "nbformat": 4,
 "nbformat_minor": 2
}
