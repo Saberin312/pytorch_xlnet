{
 "cells": [
  {
   "cell_type": "code",
   "execution_count": null,
   "metadata": {},
   "outputs": [],
   "source": [
    "  \n",
    "import os\n",
    "import cPickle as pickle\n",
    "\n",
    "def load(dirname):\n",
    "    preproc_f = os.path.join(dirname, \"preproc.bin\")\n",
    "    with open(preproc_f, 'r') as fid:\n",
    "        preproc = pickle.load(fid)\n",
    "    return preproc\n",
    "\n",
    "def save(preproc, dirname):\n",
    "    preproc_f = os.path.join(dirname, \"preproc.bin\")\n",
    "    with open(preproc_f, 'w') as fid:\n",
    "        pickle.dump(preproc, fid)"
   ]
  }
 ],
 "metadata": {
  "kernelspec": {
   "display_name": "Python 3",
   "language": "python",
   "name": "python3"
  },
  "language_info": {
   "codemirror_mode": {
    "name": "ipython",
    "version": 3
   },
   "file_extension": ".py",
   "mimetype": "text/x-python",
   "name": "python",
   "nbconvert_exporter": "python",
   "pygments_lexer": "ipython3",
   "version": "3.7.3"
  }
 },
 "nbformat": 4,
 "nbformat_minor": 2
}
