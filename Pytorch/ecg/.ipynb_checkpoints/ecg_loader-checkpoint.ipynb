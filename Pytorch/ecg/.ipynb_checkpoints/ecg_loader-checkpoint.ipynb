{
 "cells": [
  {
   "cell_type": "code",
   "execution_count": null,
   "metadata": {},
   "outputs": [],
   "source": [
    "from __future__ import print_function\n",
    "from __future__ import division\n",
    "from __future__ import absolute_import\n",
    "\n",
    "import json\n",
    "import keras\n",
    "import numpy as np\n",
    "import os\n",
    "import random\n",
    "import scipy.io as sio\n",
    "import tqdm\n",
    "\n",
    "STEP = 256"
   ]
  },
  {
   "cell_type": "code",
   "execution_count": null,
   "metadata": {},
   "outputs": [],
   "source": [
    "def data_generator(batch_size, preproc, x, y):\n",
    "    num_examples = len(x)\n",
    "    examples = zip(x, y)\n",
    "    examples = sorted(examples, key = lambda x: x[0].shape[0])\n",
    "    end = num_examples - batch_size + 1\n",
    "    batches = [examples[i:i+batch_size]\n",
    "                for i in range(0, end, batch_size)]\n",
    "    random.shuffle(batches)\n",
    "    while True:\n",
    "        for batch in batches:\n",
    "            x, y = zip(*batch)\n",
    "            yield preproc.process(x, y)"
   ]
  },
  {
   "cell_type": "code",
   "execution_count": null,
   "metadata": {},
   "outputs": [],
   "source": [
    "class Preproc:\n",
    "\n",
    "    def __init__(self, ecg, labels):\n",
    "        self.mean, self.std = compute_mean_std(ecg)\n",
    "        self.classes = sorted(set(l for label in labels for l in label))\n",
    "        self.int_to_class = dict( zip(range(len(self.classes)), self.classes))\n",
    "        self.class_to_int = {c : i for i, c in self.int_to_class.items()}\n",
    "\n",
    "    def process(self, x, y):\n",
    "        return self.process_x(x), self.process_y(y)\n",
    "\n",
    "    def process_x(self, x):\n",
    "        x = pad(x)\n",
    "        x = (x - self.mean) / self.std\n",
    "        x = x[:, :, None]\n",
    "        return x\n",
    "\n",
    "    def process_y(self, y):\n",
    "        # TODO, awni, fix hack pad with noise for cinc\n",
    "        y = pad([[self.class_to_int[c] for c in s] for s in y], val=3, dtype=np.int32) \n",
    "        y = keras.utils.np_utils.to_categorical(\n",
    "                y, num_classes=len(self.classes))\n",
    "        return y"
   ]
  },
  {
   "cell_type": "code",
   "execution_count": null,
   "metadata": {},
   "outputs": [],
   "source": [
    "def pad(x, val=0, dtype=np.float32):\n",
    "    max_len = max(len(i) for i in x)\n",
    "    padded = np.full((len(x), max_len), val, dtype=dtype)\n",
    "    for e, i in enumerate(x):\n",
    "        padded[e, :len(i)] = i\n",
    "    return padded"
   ]
  },
  {
   "cell_type": "code",
   "execution_count": null,
   "metadata": {},
   "outputs": [],
   "source": [
    "def compute_mean_std(x):\n",
    "    x = np.hstack(x)\n",
    "    return (np.mean(x).astype(np.float32),\n",
    "           np.std(x).astype(np.float32))"
   ]
  },
  {
   "cell_type": "code",
   "execution_count": null,
   "metadata": {},
   "outputs": [],
   "source": [
    "def load_dataset(data_json):\n",
    "    with open(data_json, 'r') as fid:\n",
    "        data = [json.loads(l) for l in fid]\n",
    "    labels = []; ecgs = []\n",
    "    for d in tqdm.tqdm(data):\n",
    "        labels.append(d['labels'])\n",
    "        ecgs.append(load_ecg(d['ecg']))\n",
    "    return ecgs, labels"
   ]
  },
  {
   "cell_type": "code",
   "execution_count": null,
   "metadata": {},
   "outputs": [],
   "source": [
    "def load_ecg(record):\n",
    "    if os.path.splitext(record)[1] == \".npy\":\n",
    "        ecg = np.load(record)\n",
    "    elif os.path.splitext(record)[1] == \".mat\":\n",
    "        ecg = sio.loadmat(record)['val'].squeeze()\n",
    "    else: # Assumes binary 16 bit integers\n",
    "        with open(record, 'r') as fid:\n",
    "            ecg = np.fromfile(fid, dtype=np.int16)\n",
    "\n",
    "    trunc_samp = STEP * int(len(ecg) / STEP)\n",
    "    return ecg[:trunc_samp]"
   ]
  },
  {
   "cell_type": "code",
   "execution_count": null,
   "metadata": {},
   "outputs": [],
   "source": [
    "if __name__ == \"__main__\":\n",
    "    data_json = \"examples/cinc17/train.json\"\n",
    "    train = load_dataset(data_json)\n",
    "    preproc = Preproc(*train)\n",
    "    gen = data_generator(32, preproc, *train)\n",
    "    for x, y in gen:\n",
    "        print(x.shape, y.shape)\n",
    "        break"
   ]
  }
 ],
 "metadata": {
  "kernelspec": {
   "display_name": "Python 3",
   "language": "python",
   "name": "python3"
  },
  "language_info": {
   "codemirror_mode": {
    "name": "ipython",
    "version": 3
   },
   "file_extension": ".py",
   "mimetype": "text/x-python",
   "name": "python",
   "nbconvert_exporter": "python",
   "pygments_lexer": "ipython3",
   "version": "3.7.3"
  }
 },
 "nbformat": 4,
 "nbformat_minor": 2
}
