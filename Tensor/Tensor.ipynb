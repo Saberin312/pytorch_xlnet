{
 "cells": [
  {
   "cell_type": "code",
   "execution_count": 127,
   "metadata": {},
   "outputs": [],
   "source": [
    "##begin\n",
    "from __future__ import print_function\n",
    "import torch as t\n",
    "\n",
    "##从接口角度可分为两类\n",
    "##tensor.function  & torch.function\n",
    "\n",
    "##add 与 add_的区别\n"
   ]
  },
  {
   "cell_type": "code",
   "execution_count": 128,
   "metadata": {},
   "outputs": [
    {
     "name": "stdout",
     "output_type": "stream",
     "text": [
      "tensor([[-5.0193e-11,  3.0871e-41,  1.4013e-45],\n",
      "        [ 0.0000e+00,  0.0000e+00,  0.0000e+00]])\n",
      "tensor([[-1.1791e-10,  3.0871e-41,  0.0000e+00],\n",
      "        [ 0.0000e+00,  0.0000e+00,  0.0000e+00]])\n",
      "tensor([2., 3.])\n",
      "tensor([2., 3.])\n",
      "tensor([[0., 0., 0.],\n",
      "        [0., 0., 0.]]) tensor([1, 4]) tensor([[1., 1., 1.],\n",
      "        [1., 1., 1.]]) tensor([ 1.0000, 11.5000, 22.0000]) tensor([[-0.3543, -2.2540,  0.3998,  0.3763]]) tensor([[0.9474, 0.1344, 0.0046, 0.3967]]) tensor([1, 2, 3, 0, 4]) tensor([[1., 0., 0.],\n",
      "        [0., 1., 0.]])\n",
      "saber \n",
      "\n",
      "lancer \n",
      "\n",
      "archor \n",
      "\n",
      "assassin \n",
      "\n",
      "caster \n",
      "\n",
      "berserker \n",
      "\n",
      "rider \n",
      "\n",
      "saber      \n",
      "lancer     \n",
      "archor     \n",
      "assassin   \n",
      "caster     \n",
      "berserker  \n",
      "rider      \n",
      "      fate\n"
     ]
    }
   ],
   "source": [
    "##创建tensor\n",
    "a=t.Tensor(2,3) #指定形状, 去值与内存状态有关\n",
    "print(a)\n",
    "\n",
    "b=t.Tensor([[2,3,4],[1,3,4]])\n",
    "# print(b)\n",
    "b\n",
    "b.tolist()\n",
    "\n",
    "b_size=b.size()\n",
    "b_size\n",
    "b.numel()\n",
    "\n",
    "#创建与b相同形状的tensor\n",
    "c=t.Tensor(b.size())\n",
    "c\n",
    "c.shape\n",
    "d0=t.Tensor(2,3)\n",
    "d=t.Tensor([2,3])\n",
    "d2=t.Tensor((2,3))\n",
    "print(d0)\n",
    "print(d)\n",
    "print(d2)\n",
    "\n",
    "##其余创建Tensor的方法\n",
    "print(t.zeros(2,3),\n",
    "     t.arange(1,6,3),\n",
    "     t.ones(2,3),\n",
    "     t.linspace(1,22,3),\n",
    "     t.randn(1,4),\n",
    "     t.rand(1,4),\n",
    "     t.randperm(5) ,#长度为5的随机数列,\n",
    "     t.eye(2,3))\n",
    "\n",
    "##测试格式化\n",
    "fate=('saber','lancer','archor','assassin','caster','berserker','rider')\n",
    "# print(fate[i] for i in range(7))\n",
    "for i in range(7):\n",
    "    print(fate[i],'\\n')\n",
    "print('\\n'.join('%-11s' %fate[i] for i in range(7)))\n",
    "\n",
    "print('%10s'%('fate'))"
   ]
  },
  {
   "cell_type": "code",
   "execution_count": 157,
   "metadata": {},
   "outputs": [
    {
     "name": "stdout",
     "output_type": "stream",
     "text": [
      "torch.Size([6])\n",
      "torch.Size([2, 3])\n"
     ]
    },
    {
     "data": {
      "text/plain": [
       "tensor([[[ 0,  1,  2],\n",
       "         [ 3,  4,  5],\n",
       "         [ 6,  7,  8]],\n",
       "\n",
       "        [[ 9, 10, 11],\n",
       "         [12, 13, 14],\n",
       "         [15, 16, 17]],\n",
       "\n",
       "        [[18, 19, 20],\n",
       "         [21, 22, 23],\n",
       "         [24, 25, 26]]])"
      ]
     },
     "execution_count": 157,
     "metadata": {},
     "output_type": "execute_result"
    }
   ],
   "source": [
    "##常规Tensor操作\n",
    "#tensor.view 重整Ｔｅｎｓｏｒ形状，但共享内存\n",
    "#squeeze与unsqueeze减 增维度\n",
    "# a=t.Tensor(2,3)\n",
    "a=t.arange(0,6)\n",
    "a.view(-1,3)\n",
    "a0=t.Tensor(2,3)\n",
    "print(a.size())\n",
    "print((a0.size()))\n",
    "\n",
    "a0.unsqueeze(1)\n",
    "a0\n",
    "# print(t.Tensor.squeeze(a,0))\n",
    "\n",
    "c=t.arange(0,27).view(3,3,3)\n",
    "c1=t.arange(0,27).view(-1,3,3)\n",
    "c1.squeeze()\n",
    "c1"
   ]
  },
  {
   "cell_type": "code",
   "execution_count": null,
   "metadata": {},
   "outputs": [],
   "source": []
  }
 ],
 "metadata": {
  "kernelspec": {
   "display_name": "Python 3",
   "language": "python",
   "name": "python3"
  },
  "language_info": {
   "codemirror_mode": {
    "name": "ipython",
    "version": 3
   },
   "file_extension": ".py",
   "mimetype": "text/x-python",
   "name": "python",
   "nbconvert_exporter": "python",
   "pygments_lexer": "ipython3",
   "version": "3.6.6"
  }
 },
 "nbformat": 4,
 "nbformat_minor": 2
}
